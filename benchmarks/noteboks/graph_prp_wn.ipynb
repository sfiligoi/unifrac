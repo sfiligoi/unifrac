{
 "cells": [
  {
   "cell_type": "code",
   "execution_count": 1,
   "metadata": {},
   "outputs": [],
   "source": [
    "import numpy as np\n",
    "import matplotlib.pyplot as plt\n"
   ]
  },
  {
   "cell_type": "code",
   "execution_count": 2,
   "metadata": {},
   "outputs": [],
   "source": [
    "with open(\"../prp_summary_wn.csv\",\"r\") as fd:\n",
    "    lines=fd.readlines()\n",
    "\n",
    "summary_uw=[]\n",
    "summary_uw_header=[]\n",
    "for line in lines:\n",
    "    larr=line.strip().split(',')\n",
    "    if len(larr)!=13:\n",
    "        print(len(larr))\n",
    "        continue #bad line\n",
    "    if larr[0][0]=='#':\n",
    "        summary_uw_header=larr\n",
    "    else:\n",
    "        summary_uw.append(larr)"
   ]
  },
  {
   "cell_type": "code",
   "execution_count": 3,
   "metadata": {},
   "outputs": [],
   "source": [
    "i_n_samples=1\n",
    "i_n_embs=2\n",
    "i_gpu7=4\n",
    "i_gpu8=6\n",
    "i_gpu28=8\n",
    "i_gpu39=10\n",
    "i_gpu40=12"
   ]
  },
  {
   "cell_type": "code",
   "execution_count": 4,
   "metadata": {},
   "outputs": [],
   "source": [
    "gpu7_n_samples=[]\n",
    "gpu8_n_samples=[]\n",
    "gpu28_n_samples=[]\n",
    "gpu39_n_samples=[]\n",
    "gpu40_n_samples=[]\n",
    "\n",
    "n_embs=[]\n",
    "gpu7=[]\n",
    "gpu8=[]\n",
    "gpu28=[]\n",
    "gpu39=[]\n",
    "gpu40=[]\n",
    "\n",
    "for el in summary_uw:\n",
    "    n_samples=int(el[i_n_samples])\n",
    "    n_embs.append(int(el[i_n_embs]))\n",
    "    if el[i_gpu7]!='':\n",
    "        gpu7_n_samples.append(int(el[i_n_samples]))\n",
    "        gpu7.append(int(el[i_gpu7])/60.0)\n",
    "    if el[i_gpu8]!='':\n",
    "        gpu8_n_samples.append(int(el[i_n_samples]))\n",
    "        gpu8.append(int(el[i_gpu8])/60.0)\n",
    "    if el[i_gpu28]!='':\n",
    "        gpu28_n_samples.append(int(el[i_n_samples]))\n",
    "        gpu28.append(int(el[i_gpu28])/60.0)\n",
    "    if el[i_gpu39]!='':\n",
    "        gpu39_n_samples.append(int(el[i_n_samples]))\n",
    "        gpu39.append(int(el[i_gpu39])/60.0)\n",
    "    if el[i_gpu40]!='':\n",
    "        gpu40_n_samples.append(int(el[i_n_samples]))\n",
    "        gpu40.append(int(el[i_gpu40])/60.0)\n",
    "\n",
    "    "
   ]
  },
  {
   "cell_type": "code",
   "execution_count": 5,
   "metadata": {},
   "outputs": [
    {
     "name": "stdout",
     "output_type": "stream",
     "text": [
      "[1000, 2000, 5000, 10000, 20000, 30000, 50000, 100000, 200000, 307237]\n"
     ]
    }
   ],
   "source": [
    "#x = n_samples\n",
    "#y = np.vstack([org_cpu,cpu,gpu_3s])\n",
    "print(gpu40_n_samples)"
   ]
  },
  {
   "cell_type": "code",
   "execution_count": 6,
   "metadata": {},
   "outputs": [
    {
     "data": {
      "image/png": "[encoded data removed]",
      "text/plain": [
       "<Figure size 432x288 with 1 Axes>"
      ]
     },
     "metadata": {
      "needs_background": "light"
     },
     "output_type": "display_data"
    }
   ],
   "source": [
    "fig, ax = plt.subplots()\n",
    "#ax.plot(n_samples[:len(org_cpu)], org_cpu,\n",
    "#        n_samples[:len(cpu)], cpu,\n",
    "#        n_samples[:len(gpu_3s)], gpu_3s)\n",
    "ax.plot(gpu7_n_samples, gpu7, label=\"GTX 1070\")\n",
    "ax.plot(gpu8_n_samples, gpu8, label=\"GTX 1080Ti\")\n",
    "ax.plot(gpu28_n_samples, gpu28, label=\"RTX 2080Ti\")\n",
    "ax.plot(gpu39_n_samples, gpu39, label=\"RTX 3090\")\n",
    "ax.plot(gpu40_n_samples, gpu40, label=\"A40\")\n",
    "\n",
    "\n",
    "plt.ylim([0,300])\n",
    "\n",
    "plt.title(\"Unifrac fp32 - weighted - in chip minutes\")\n",
    "ax.legend(loc='upper left')\n",
    "plt.show()\n"
   ]
  },
  {
   "cell_type": "code",
   "execution_count": null,
   "metadata": {},
   "outputs": [],
   "source": []
  }
 ],
 "metadata": {
  "kernelspec": {
   "display_name": "Python 3",
   "language": "python",
   "name": "python3"
  },
  "language_info": {
   "codemirror_mode": {
    "name": "ipython",
    "version": 3
   },
   "file_extension": ".py",
   "mimetype": "text/x-python",
   "name": "python",
   "nbconvert_exporter": "python",
   "pygments_lexer": "ipython3",
   "version": "3.8.3"
  }
 },
 "nbformat": 4,
 "nbformat_minor": 4
}
